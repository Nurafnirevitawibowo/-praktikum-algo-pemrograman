{
  "nbformat": 4,
  "nbformat_minor": 0,
  "metadata": {
    "colab": {
      "provenance": [],
      "authorship_tag": "ABX9TyP8I/EcBC+YQgM0ZxJ+PzG2",
      "include_colab_link": true
    },
    "kernelspec": {
      "name": "python3",
      "display_name": "Python 3"
    },
    "language_info": {
      "name": "python"
    }
  },
  "cells": [
    {
      "cell_type": "markdown",
      "metadata": {
        "id": "view-in-github",
        "colab_type": "text"
      },
      "source": [
        "<a href=\"https://colab.research.google.com/github/Nurafnirevitawibowo/-praktikum-algo-pemrograman/blob/main/ML_elkom1.ipynb\" target=\"_parent\"><img src=\"https://colab.research.google.com/assets/colab-badge.svg\" alt=\"Open In Colab\"/></a>"
      ]
    },
    {
      "cell_type": "code",
      "source": [
        "pip install scikit-learn\n"
      ],
      "metadata": {
        "colab": {
          "base_uri": "https://localhost:8080/"
        },
        "id": "15CoWv2W3MC4",
        "outputId": "666ca019-6883-4283-8771-32e44e892a9d"
      },
      "execution_count": 2,
      "outputs": [
        {
          "output_type": "stream",
          "name": "stdout",
          "text": [
            "Requirement already satisfied: scikit-learn in /usr/local/lib/python3.10/dist-packages (1.2.2)\n",
            "Requirement already satisfied: numpy>=1.17.3 in /usr/local/lib/python3.10/dist-packages (from scikit-learn) (1.25.2)\n",
            "Requirement already satisfied: scipy>=1.3.2 in /usr/local/lib/python3.10/dist-packages (from scikit-learn) (1.11.4)\n",
            "Requirement already satisfied: joblib>=1.1.1 in /usr/local/lib/python3.10/dist-packages (from scikit-learn) (1.3.2)\n",
            "Requirement already satisfied: threadpoolctl>=2.0.0 in /usr/local/lib/python3.10/dist-packages (from scikit-learn) (3.3.0)\n"
          ]
        }
      ]
    },
    {
      "cell_type": "code",
      "source": [
        "from sklearn.datasets import load_iris\n",
        "from sklearn.model_selection import train_test_split\n",
        "from sklearn.linear_model import Perceptron\n",
        "from sklearn.metrics import accuracy_score\n",
        "\n"
      ],
      "metadata": {
        "id": "vo-P2Yrx3Qqm"
      },
      "execution_count": 4,
      "outputs": []
    },
    {
      "cell_type": "code",
      "source": [
        "import numpy as np\n",
        "import matplotlib.pyplot as plt"
      ],
      "metadata": {
        "id": "8_Xr7hUC3dVb"
      },
      "execution_count": 8,
      "outputs": []
    },
    {
      "cell_type": "code",
      "source": [
        "from sklearn.linear_model import Perceptron\n",
        "import numpy as np\n",
        "\n",
        "# Definisi data latih (input dan output)\n",
        "X = np.array([[0, 0], [0, 1], [1, 0], [1, 1]])\n",
        "y = np.array([0, 0, 0, 1])\n",
        "\n",
        "# Membuat objek perceptron\n",
        "clf = Perceptron()\n",
        "\n",
        "# Melatih model Perceptron\n",
        "clf.fit(X, y)\n",
        "\n",
        "# Melakukan prediksi\n",
        "predictions = clf.predict(X)\n",
        "\n",
        "# Menampilkan hasil prediksi\n",
        "print(\"Hasil prediksi:\")\n",
        "for i in range(len(X)):\n",
        "    print(X[i], \"-->\", predictions[i])\n",
        "\n",
        "# Menampilkan bobot dan bias yang diperoleh\n",
        "print(\"\\nBobot:\", clf.coef_)\n",
        "print(\"Bias:\", clf.intercept_)\n"
      ],
      "metadata": {
        "colab": {
          "base_uri": "https://localhost:8080/"
        },
        "id": "8sP9WM9M6UHR",
        "outputId": "ff4f500e-46f3-4745-d5a8-1e4ae50d26fa"
      },
      "execution_count": 11,
      "outputs": [
        {
          "output_type": "stream",
          "name": "stdout",
          "text": [
            "Hasil prediksi:\n",
            "[0 0] --> 0\n",
            "[0 1] --> 0\n",
            "[1 0] --> 0\n",
            "[1 1] --> 1\n",
            "\n",
            "Bobot: [[2. 2.]]\n",
            "Bias: [-2.]\n"
          ]
        }
      ]
    },
    {
      "cell_type": "code",
      "source": [
        "import numpy as np\n",
        "import matplotlib.pyplot as plt\n",
        "from sklearn.linear_model import Perceptron\n",
        "\n",
        "# Definisi data latih (input dan output)\n",
        "X = np.array([[0, 0], [0, 1], [1, 0], [1, 1]])\n",
        "y = np.array([0, 0, 0, 1])\n",
        "\n",
        "# Membuat objek perceptron\n",
        "clf = Perceptron()\n",
        "\n",
        "# Melatih model Perceptron\n",
        "clf.fit(X, y)\n",
        "\n",
        "# Menampilkan data latih\n",
        "plt.scatter(X[:, 0], X[:, 1], c=y, cmap='viridis', marker='o', s=100)\n",
        "\n",
        "# Menampilkan garis keputusan (decision boundary)\n",
        "x1_min, x1_max = X[:, 0].min() - 1, X[:, 0].max() + 1\n",
        "x2_min, x2_max = X[:, 1].min() - 1, X[:, 1].max() + 1\n",
        "xx1, xx2 = np.meshgrid(np.arange(x1_min, x1_max, 0.01),\n",
        "                       np.arange(x2_min, x2_max, 0.01))\n",
        "Z = clf.predict(np.c_[xx1.ravel(), xx2.ravel()])\n",
        "Z = Z.reshape(xx1.shape)\n",
        "plt.contourf(xx1, xx2, Z, alpha=0.3, cmap='viridis')\n",
        "\n",
        "# Menampilkan titel dan label\n",
        "plt.title('Perceptron Decision Boundary for AND Gate')\n",
        "plt.xlabel('Input 1')\n",
        "plt.ylabel('Input 2')\n",
        "plt.xlim(xx1.min(), xx1.max())\n",
        "plt.ylim(xx2.min(), xx2.max())\n",
        "plt.xticks(())\n",
        "plt.yticks(())\n",
        "\n",
        "# Menampilkan plot\n",
        "plt.show()\n"
      ],
      "metadata": {
        "colab": {
          "base_uri": "https://localhost:8080/",
          "height": 448
        },
        "id": "r-MrnAQw6kVq",
        "outputId": "2c600ea3-64f2-4f2b-d9c5-6b3dcd0cce5e"
      },
      "execution_count": 12,
      "outputs": [
        {
          "output_type": "display_data",
          "data": {
            "text/plain": [
              "<Figure size 640x480 with 1 Axes>"
            ],
            "image/png": "[encoded data removed]"
          },
          "metadata": {}
        }
      ]
    }
  ]
}